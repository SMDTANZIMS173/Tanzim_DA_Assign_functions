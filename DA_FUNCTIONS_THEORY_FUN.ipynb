{
 "cells": [
  {
   "cell_type": "markdown",
   "metadata": {},
   "source": [
    "Functions Theory:\n"
   ]
  },
  {
   "cell_type": "markdown",
   "metadata": {},
   "source": [
    "1. What is the difference between a function and a method in Python?"
   ]
  },
  {
   "cell_type": "markdown",
   "metadata": {},
   "source": [
    "* Function: A standalone block of reusable code defined using 'def' keyword\n",
    "1. Functions can be either user-defined or built-in.\n",
    "\n",
    "* Methods : A function associated with an object, called using the object's name.\n",
    "1. Here the object is any data structure like list,string,tuple,set etc\n",
    "2. Always methods are associated or tied with object"
   ]
  },
  {
   "cell_type": "code",
   "execution_count": null,
   "metadata": {},
   "outputs": [
    {
     "name": "stdout",
     "output_type": "stream",
     "text": [
      "Tanzim\n",
      "Hi Tanzim\n",
      "TANZIM\n"
     ]
    }
   ],
   "source": [
    "# Functions\n",
    "# Built-in Function\n",
    "a=\"Tanzim\"\n",
    "print(a)  # print() is a built in function \n",
    " \n",
    "# User- Defined Function\n",
    "def print_name(a):\n",
    "    return \"Hi \"+a\n",
    "a=\"Tanzim\"\n",
    "b=print_name(a)\n",
    "print(b)\n",
    "\n",
    "#methods\n",
    "print(a.upper())   # method is tied to string object a \n",
    "\n"
   ]
  },
  {
   "cell_type": "markdown",
   "metadata": {},
   "source": [
    "2. Explain the concept of function arguments and parameters in Python."
   ]
  },
  {
   "cell_type": "markdown",
   "metadata": {},
   "source": [
    "* Function Arguments and Parameters in Python:\n",
    "\n",
    "1. Parameters are the variables listed in the function definition. They act as placeholders that will hold the values passed when the function is called.\n",
    "\n",
    "2. Arguments are the values passed to the function when calling it. They fill in the parameters during the function call.\n",
    "1. positional arguments\n",
    "2. keyword Arguments\n",
    "\n",
    "while no. of arguments should match with the parameter for function calling and function being called\n"
   ]
  },
  {
   "cell_type": "code",
   "execution_count": null,
   "metadata": {},
   "outputs": [
    {
     "name": "stdout",
     "output_type": "stream",
     "text": [
      "8\n"
     ]
    }
   ],
   "source": [
    "def add(x, y):  # x and y are parameters and it is the called function\n",
    "    return x + y\n",
    "\n",
    "result = add(3, 5)  # 3 and 5 are arguments and it is the calling function\n",
    "print(result) \n",
    "\n",
    "# Parameter: Variable in the function definition.\n",
    "# Argument: Value passed when calling the function."
   ]
  },
  {
   "cell_type": "markdown",
   "metadata": {},
   "source": [
    "3. What are the different ways to define and call a function in Python?"
   ]
  },
  {
   "cell_type": "markdown",
   "metadata": {},
   "source": [
    "1. Regular Function: Defined with def and called by name.\n",
    "2. With Return Value: Functions can return values using return.\n",
    "3. Default Parameters: Parameters can have default values.\n",
    "4. Variable Arguments: Use *args or **kwargs to accept multiple arguments.\n",
    "5. Lambda Functions: Short functions created using lambda for quick use."
   ]
  },
  {
   "cell_type": "code",
   "execution_count": 24,
   "metadata": {},
   "outputs": [
    {
     "name": "stdout",
     "output_type": "stream",
     "text": [
      "Hello, Tanzim\n",
      "256\n",
      "Hello, Guest\n",
      "Hello, Tanzim\n",
      "6\n",
      "name: Tanzim\n",
      "age: 25\n",
      "120\n"
     ]
    }
   ],
   "source": [
    "# Regular Function\n",
    "def greet(name):  # Function definition\n",
    "    print(f\"Hello, {name}\")\n",
    "\n",
    "greet(\"Tanzim\")  # Function call\n",
    "\n",
    "# return Value\n",
    "def square(num):\n",
    "    return num*num\n",
    "a=square(16)\n",
    "print(a)\n",
    "\n",
    "# function with default value\n",
    "def greet(name=\"Guest\"):  # Function with default parameter\n",
    "    print(f\"Hello, {name}\")\n",
    "\n",
    "greet()  #  Calls function with default value \n",
    "greet(\"Tanzim\") # Calls function with passed argument \"Tanzim\"\n",
    "\n",
    "# Function with Variable Arguments {keyword,positional}\n",
    "def add(*args):  # Function with variable positional arguments\n",
    "    return sum(args)\n",
    "\n",
    "print(add(1, 2, 3))  \n",
    "\n",
    "def greet(**kwargs):  # Function with variable keyword arguments\n",
    "    for key, value in kwargs.items():\n",
    "        print(f\"{key}: {value}\")\n",
    "\n",
    "greet(name=\"Tanzim\", age=25)  # Output: name: Tanzim, age: 25\n",
    "\n",
    "# Lambda functions\n",
    "fact=lambda x: 1 if x<=0 else x * fact(x-1)\n",
    "print(fact(5))\n",
    "\n",
    "\n"
   ]
  },
  {
   "cell_type": "markdown",
   "metadata": {},
   "source": [
    "4. What is the purpose of the `return` statement in a Python function?"
   ]
  },
  {
   "cell_type": "markdown",
   "metadata": {},
   "source": [
    "Return Statement in python function returns the value to the calling function\n",
    "* no matter if there are any other statements after return but as soon return encounters it stops the execution and returns the value to the calling function as result"
   ]
  },
  {
   "cell_type": "code",
   "execution_count": null,
   "metadata": {},
   "outputs": [
    {
     "name": "stdout",
     "output_type": "stream",
     "text": [
      "64\n"
     ]
    }
   ],
   "source": [
    "def cube(num):\n",
    "    return num**3\n",
    "    print(num)  # never executes this statement\n",
    "result=cube(4)\n",
    "print(result)"
   ]
  },
  {
   "cell_type": "markdown",
   "metadata": {},
   "source": [
    "5. What are iterators in Python and how do they differ from iterables?"
   ]
  },
  {
   "cell_type": "markdown",
   "metadata": {},
   "source": [
    "* Iterators:\n",
    "1. An iterator is an object in Python that allows you to iterate (loop) over a sequence of elements, one element at a time.\n",
    "2. It keeps track of its position and knows how to retrieve the next element in the sequence.\n",
    "iter(var_name) - returns iterator object itself\n",
    "next() - returns next element from sequence\n",
    "  ex :  for i in range(10):\n",
    "        Here i is the iterator in the range sequence of 10 and it is iterator because there is a range() object as iterable"
   ]
  },
  {
   "cell_type": "code",
   "execution_count": 28,
   "metadata": {},
   "outputs": [
    {
     "name": "stdout",
     "output_type": "stream",
     "text": [
      "1\n",
      "2\n",
      "3\n",
      "1 2 3 "
     ]
    }
   ],
   "source": [
    "numbers = [1, 2, 3]  # numbers is iterable object as it can iterate through iter()\n",
    "iterator = iter(numbers)  # Create an iterator from the list\n",
    "\n",
    "# Use __next__ to get each element one by one\n",
    "print(next(iterator))  # Output: 1   # iterators gives mechanism of each step internally while itearble is the object on which iterator is being done\n",
    "print(next(iterator))  # Output: 2\n",
    "print(next(iterator))  # Output: 3\n",
    "\n",
    "# iterables\n",
    "for i in numbers:\n",
    "    print(i,end=\" \")\n",
    "\n"
   ]
  },
  {
   "cell_type": "markdown",
   "metadata": {},
   "source": [
    "6. Explain the concept of generators in Python and how they are defined."
   ]
  },
  {
   "cell_type": "markdown",
   "metadata": {},
   "source": [
    "* Generators in Python\n",
    "1. A generator is a special type of iterator in Python that allows you to create an iterable sequence of items, one at a time, in a memory-efficient way. \n",
    "Instead of returning all values at once, generators yield items one by one when requested, which helps to save memory, especially for large datasets.\n",
    "Geneartors wont store all upfront elements of iterables but the last elements which is being generated upon calling.\n",
    "\n",
    "there is no special form for defining generators but we use \"yield\" which gives the element one at a time upon calling"
   ]
  },
  {
   "cell_type": "code",
   "execution_count": 31,
   "metadata": {},
   "outputs": [
    {
     "name": "stdout",
     "output_type": "stream",
     "text": [
      "<generator object count_up_to at 0x000001EE7F99BDC0>\n",
      "1\n",
      "2\n",
      "3\n",
      "4\n",
      "5\n"
     ]
    }
   ],
   "source": [
    "# Generator function to yield numbers\n",
    "def count_up_to(max):\n",
    "    count = 1\n",
    "    while count <= max:\n",
    "        yield count  # Yield the current value of count\n",
    "        count += 1\n",
    "\n",
    "# Create a generator\n",
    "counter = count_up_to(5)\n",
    "print(counter)   # it will create an generator object of that particular function\n",
    "# Iterate over the generator\n",
    "for num in counter:\n",
    "    print(num) # to get the elements of the generators of ietrable elements \n"
   ]
  },
  {
   "cell_type": "markdown",
   "metadata": {},
   "source": [
    "7. What are the advantages of using generators over regular functions?"
   ]
  },
  {
   "cell_type": "markdown",
   "metadata": {},
   "source": [
    "1. Simple Comparison:\n",
    "Regular function: Returns all results at once and consumes memory for every value.\n",
    "It is slow, mostly used for small & large data sets where memory optimization doesnot concerns\n",
    "2. Generator: Yields results one by one, producing values only when needed, conserving memory and improving efficiency\n",
    "It is slow, mostly used for large data sets where memory optimization concerns instead of storing all upfront values it gives one at a time."
   ]
  },
  {
   "cell_type": "code",
   "execution_count": 39,
   "metadata": {},
   "outputs": [
    {
     "name": "stdout",
     "output_type": "stream",
     "text": [
      "[1, 2, 3, 4, 5, 6, 7, 8, 9, 10]\n",
      "<generator object count_up_to1 at 0x000001EE005552A0>\n",
      "1\n",
      "2 3 4 5 6 7 8 9 10 "
     ]
    }
   ],
   "source": [
    "# Regular function\n",
    "def count_up_to(max):\n",
    "    return [i for i in range(1, max+1)]  # Creates a list with all values\n",
    "\n",
    "# Generator function\n",
    "def count_up_to1(max):\n",
    "    for i in range(1, max+1):\n",
    "        yield i  # Generates values one by one\n",
    "print(count_up_to(10))\n",
    "a=count_up_to1(10)\n",
    "print(a)\n",
    "print(next(a))\n",
    "for i in a:\n",
    "    print(i,end=\" \")\n",
    "# next(a)\n",
    "\n"
   ]
  },
  {
   "cell_type": "markdown",
   "metadata": {},
   "source": [
    "8. What is a lambda function in Python and when is it typically used?"
   ]
  },
  {
   "cell_type": "markdown",
   "metadata": {},
   "source": [
    "* Lambda Function in Python:\n",
    "1. A lambda function is a small, anonymous function defined using the lambda keyword. \n",
    "Unlike regular functions defined with def, a lambda function is typically used for simple operations that can be written in a single line.\n",
    "it is typically used to represent a function in a single line.\n",
    "\n",
    "* Syntax: lambda arguments:expression"
   ]
  },
  {
   "cell_type": "code",
   "execution_count": 40,
   "metadata": {},
   "outputs": [
    {
     "name": "stdout",
     "output_type": "stream",
     "text": [
      "16\n",
      "16\n"
     ]
    }
   ],
   "source": [
    "# Regular function\n",
    "def square(x):\n",
    "    return x * x\n",
    "\n",
    "# Lambda function\n",
    "square_lambda = lambda x: x * x\n",
    "\n",
    "print(square(4))         # 16\n",
    "print(square_lambda(4))  # 16\n"
   ]
  },
  {
   "cell_type": "markdown",
   "metadata": {},
   "source": [
    "9. Explain the purpose and usage of the `map()` function in Python."
   ]
  },
  {
   "cell_type": "markdown",
   "metadata": {},
   "source": [
    "\n",
    "* Purpose and Usage of map() Function in Python:\n",
    "1. The map() function in Python is used to apply a given function to each item of an iterable (like a list, tuple, etc.) and returns an iterator that produces the results. It allows you to transform each element of an iterable in a concise and efficient manner.\n",
    "\n",
    "Syntax:\n",
    "map(function,iterable,..)\n",
    "\n",
    "1. It will returns an iterator which yields the result of applying the function to each item of the iterable. To get the result in a list or another data type, you need to convert the result using list() or other iterables."
   ]
  },
  {
   "cell_type": "code",
   "execution_count": null,
   "metadata": {},
   "outputs": [
    {
     "name": "stdout",
     "output_type": "stream",
     "text": [
      "<map object at 0x000001EE7FED6D40>\n",
      "[1, 4, 9, 16]\n"
     ]
    }
   ],
   "source": [
    "# Function to square a number\n",
    "def square(x):\n",
    "    return x * x\n",
    "\n",
    "numbers = [1, 2, 3, 4]\n",
    "\n",
    "# Using map to apply the square function to each number in the list\n",
    "squared_numbers = map(square, numbers) \n",
    "print(squared_numbers)  # it returns the map object as iterator as yield similarly to generators but works differenetly\n",
    "# Convert the result to a list and print it\n",
    "print(list(squared_numbers))  # Output: [1, 4, 9, 16]\n"
   ]
  },
  {
   "cell_type": "markdown",
   "metadata": {},
   "source": [
    "10. What is the difference between `map()`, `reduce()`, and `filter()` functions in Python?"
   ]
  },
  {
   "cell_type": "markdown",
   "metadata": {},
   "source": [
    "\n",
    "* Difference between map(), reduce(), and filter() in Python:\n",
    "# map():\n",
    "\n",
    "1. Purpose: Applies a function to each item of an iterable and returns an iterator of results.\n",
    "2. Usage: Used for transforming data in an iterable.\n",
    "Example: Squaring each number in a list.\n",
    "\n",
    "# reduce():\n",
    "1. used for performing aggregation operations (like summing numbers, multiplying, etc.).\n",
    "2. Applies a binary function (takes two arguments) cumulatively to the items of an iterable, reducing the iterable to a single value.\n",
    "3. but for reduce we need to do from functools import reduce\n",
    "\n",
    "# filter()\n",
    "1. Applies a function to each item of an iterable and returns an iterator with only the items for which the function returns True.\n",
    "2. it is based on condition\n"
   ]
  },
  {
   "cell_type": "code",
   "execution_count": 56,
   "metadata": {},
   "outputs": [
    {
     "name": "stdout",
     "output_type": "stream",
     "text": [
      "[1, 4, 9]\n",
      "6\n",
      "[2, 4, 6]\n"
     ]
    }
   ],
   "source": [
    "#map()\n",
    "numbers = [1, 2, 3]\n",
    "result = map(lambda x: x**2, numbers)  # Output: [1, 4, 9]\n",
    "print(list(result))  # transforms each element of an iterable\n",
    "\n",
    "#reduce()\n",
    "from functools import reduce\n",
    "numbers = [1, 2, 3]\n",
    "result = reduce(lambda x, y: x + y, numbers)  # Output: 6\n",
    "print(result)\n",
    "\n",
    "#filter\n",
    "num=[1,2,3,4,5,6,7,9]\n",
    "result=filter(lambda x: x%2==0,num)\n",
    "print(list(result))\n"
   ]
  },
  {
   "cell_type": "markdown",
   "metadata": {},
   "source": [
    "11. Using pen & Paper write the internal mechanism for sum operation using  reduce function on this given\n",
    "list:[47,11,42,13]; "
   ]
  },
  {
   "cell_type": "code",
   "execution_count": 65,
   "metadata": {},
   "outputs": [
    {
     "name": "stdout",
     "output_type": "stream",
     "text": [
      "113\n"
     ]
    }
   ],
   "source": [
    "from functools import reduce\n",
    "list1 = [47,11,42,13]\n",
    "result = reduce(lambda x, y: x + y, list1)  # Output: 6\n",
    "print(result)"
   ]
  },
  {
   "cell_type": "markdown",
   "metadata": {},
   "source": [
    "'''\n",
    "Practical Questions\n",
    "'''"
   ]
  },
  {
   "cell_type": "markdown",
   "metadata": {},
   "source": [
    "1. Write a Python function that takes a list of numbers as input and returns the sum of all even numbers in\n",
    "the list."
   ]
  },
  {
   "cell_type": "code",
   "execution_count": null,
   "metadata": {},
   "outputs": [
    {
     "name": "stdout",
     "output_type": "stream",
     "text": [
      "6\n"
     ]
    }
   ],
   "source": [
    "num1=list(map(int,input().split()))\n",
    "result= sum([i for i in num1 if i%2==0])\n",
    "print(result)   # prints 6 as output\n"
   ]
  },
  {
   "cell_type": "markdown",
   "metadata": {},
   "source": [
    "2. Create a Python function that accepts a string and returns the reverse of that string."
   ]
  },
  {
   "cell_type": "code",
   "execution_count": null,
   "metadata": {},
   "outputs": [
    {
     "name": "stdout",
     "output_type": "stream",
     "text": [
      "a\n",
      "['n', 'a', 't', 'l', 'u', 's', ' ', 'm', 'i', 'z', 'n', 'a', 't']\n"
     ]
    }
   ],
   "source": [
    "Str_name=input()  #tanzim sultana\n",
    "q=reversed(Str_name)\n",
    "print(next(q))  # it gives last element from input\n",
    "print(list(q))   # gives output other than above element\n",
    "# next(q)"
   ]
  },
  {
   "cell_type": "markdown",
   "metadata": {},
   "source": [
    "3. Implement a Python function that takes a list of integers and returns a new list containing the squares of\n",
    "each number."
   ]
  },
  {
   "cell_type": "code",
   "execution_count": 86,
   "metadata": {},
   "outputs": [
    {
     "name": "stdout",
     "output_type": "stream",
     "text": [
      "[1, 4, 9, 16, 25]\n"
     ]
    }
   ],
   "source": [
    "num1=list(map(int,input().split()))\n",
    "result= list(map(lambda x:x**2,num1))\n",
    "print(result) "
   ]
  },
  {
   "cell_type": "markdown",
   "metadata": {},
   "source": [
    "4. Write a Python function that checks if a given number is prime or not from 1 to 200"
   ]
  },
  {
   "cell_type": "code",
   "execution_count": 106,
   "metadata": {},
   "outputs": [
    {
     "name": "stdout",
     "output_type": "stream",
     "text": [
      "23 is prime no.\n"
     ]
    }
   ],
   "source": [
    "num=int(input())   # 23\n",
    "def isprime(num):\n",
    "    if num >=0 and num<=200:\n",
    "        if num == 1:\n",
    "            print(\"neither prime nor coprime\")\n",
    "            return None\n",
    "        \n",
    "        for i in range(2,int(num**0.5)+1):\n",
    "            if num % i == 0:\n",
    "                return False\n",
    "        return True \n",
    "    else:\n",
    "        print(\"num is less or greater than 200\")\n",
    "        return None\n",
    "a=isprime(num)    \n",
    "if a is None:\n",
    "    pass\n",
    "elif a:\n",
    "    print(f\"{num} is prime no.\")\n",
    "else:\n",
    "    print(f\"{num} is not a prime no.\")"
   ]
  },
  {
   "cell_type": "markdown",
   "metadata": {},
   "source": [
    "5. Create an iterator class in Python that generates the Fibonacci sequence up to a specified number of\n",
    "terms."
   ]
  },
  {
   "cell_type": "code",
   "execution_count": 107,
   "metadata": {},
   "outputs": [
    {
     "data": {
      "text/plain": [
       "[0, 1, 1, 2, 3, 5, 8, 13, 21]"
      ]
     },
     "execution_count": 107,
     "metadata": {},
     "output_type": "execute_result"
    }
   ],
   "source": [
    "fib=lambda n: n if n<=1 else fib(n-1)+fib(n-2)\n",
    "[fib(i) for i in range(9)]"
   ]
  },
  {
   "cell_type": "markdown",
   "metadata": {},
   "source": [
    "6. Write a generator function in Python that yields the powers of 2 up to a given exponent."
   ]
  },
  {
   "cell_type": "code",
   "execution_count": null,
   "metadata": {},
   "outputs": [
    {
     "name": "stdout",
     "output_type": "stream",
     "text": [
      "1\n",
      "2\n",
      "4\n",
      "8\n",
      "16\n",
      "32\n"
     ]
    }
   ],
   "source": [
    "given_exponent=int(input())  # input is 5\n",
    "result=map(lambda x: 2 **x,range(given_exponent + 1))\n",
    "for i in result:\n",
    "    print(i)"
   ]
  },
  {
   "cell_type": "markdown",
   "metadata": {},
   "source": [
    "7. Implement a generator function that reads a file line by line and yields each line as a string."
   ]
  },
  {
   "cell_type": "code",
   "execution_count": 121,
   "metadata": {},
   "outputs": [
    {
     "name": "stdout",
     "output_type": "stream",
     "text": [
      "Apple\n",
      "Tanzim Sultana\n",
      "Data Scientist\n",
      "PwSkills\n"
     ]
    }
   ],
   "source": [
    "def read_file_line_by_line(file_path):\n",
    "    \"\"\"Generator function to read a file line by line.\"\"\"\n",
    "    with open(file_path, 'r') as file:  # Open the file in read mode\n",
    "        for line in file:  # Loop through each line in the file\n",
    "            yield line.strip().strip('\"')  # Yield the line after stripping leading/trailing whitespace\n",
    "file_path = 'Example1.txt'\n",
    "\n",
    "# Use the generator to read and print lines\n",
    "for line in read_file_line_by_line(file_path):\n",
    "    print(line)\n",
    "\n"
   ]
  },
  {
   "cell_type": "markdown",
   "metadata": {},
   "source": [
    "8. Use a lambda function in Python to sort a list of tuples based on the second element of each tuple"
   ]
  },
  {
   "cell_type": "code",
   "execution_count": 123,
   "metadata": {},
   "outputs": [
    {
     "name": "stdout",
     "output_type": "stream",
     "text": [
      "[(1, 2, 3), (3, 4, 3), (4, 5, 6)]\n"
     ]
    }
   ],
   "source": [
    "def i(dat):\n",
    "    return dat[2]\n",
    "dat=[(1,2,3),(4,5,6),(3,4,3)]\n",
    "dat.sort(key=i)\n",
    "print(dat)"
   ]
  },
  {
   "cell_type": "markdown",
   "metadata": {},
   "source": [
    "9. Write a Python program that uses `map()` to convert a list of temperatures from Celsius to Fahrenheit."
   ]
  },
  {
   "cell_type": "code",
   "execution_count": null,
   "metadata": {},
   "outputs": [
    {
     "name": "stdout",
     "output_type": "stream",
     "text": [
      "[129.2, 93.2, 131.0, 168.8, 188.6, 129.2, 149.0, 93.2, 73.4]\n"
     ]
    }
   ],
   "source": [
    "li=[54,34,55,76,87,54,65,34,23]\n",
    "result=list(map(lambda x: x*(9/5)+32,li))\n",
    "print(\"celsius to fahrenheit\",result)\n"
   ]
  },
  {
   "cell_type": "markdown",
   "metadata": {},
   "source": [
    "10. Create a Python program that uses `filter()` to remove all the vowels from a given string."
   ]
  },
  {
   "cell_type": "code",
   "execution_count": null,
   "metadata": {},
   "outputs": [
    {
     "name": "stdout",
     "output_type": "stream",
     "text": [
      "Hll Tnzm\n"
     ]
    }
   ],
   "source": [
    "str_name=input()   # Hello Tanzim\n",
    "result=filter(lambda x: x not in ('a','e','i','o','u','A','E','I','O','U'),str_name)\n",
    "print(''.join(result))"
   ]
  },
  {
   "cell_type": "markdown",
   "metadata": {},
   "source": [
    "11) Imagine an accounting routine used in a book shop. It works on a list with sublists, which look like this:\n",
    "Write a Python program, which returns a list with 2-tuples. Each tuple consists of the order number and the\n",
    "product of the price per item and the quantity. The product should be increased by 10,- € if the value of the\n",
    "order is smaller than 100,00 €.\n",
    "\n",
    "Write a Python program using lambda and map."
   ]
  },
  {
   "cell_type": "code",
   "execution_count": 133,
   "metadata": {},
   "outputs": [
    {
     "name": "stdout",
     "output_type": "stream",
     "text": [
      "[(34587, 163.8), (98762, 284.0), (77226, 108.85000000000001), (88112, 84.97)]\n"
     ]
    }
   ],
   "source": [
    "lis=[[34587,\"Learning Python, Mark Lutz\",4,40.95],[98762,\"Programming Python, Mark Lutz\",5,56.80],[77226,\"Head First Python, Paul Barry\",3,32.95],[88112,\"Einführung in Python3, Bernd Klein\",3,24.99]]\n",
    "result=list(map(lambda x: (x[0],x[2]*x[3]+(10 if x[2]*x[3]<100 else 0 )),lis))\n",
    "print(result)"
   ]
  },
  {
   "cell_type": "markdown",
   "metadata": {},
   "source": []
  },
  {
   "cell_type": "markdown",
   "metadata": {},
   "source": []
  },
  {
   "cell_type": "markdown",
   "metadata": {},
   "source": []
  },
  {
   "cell_type": "markdown",
   "metadata": {},
   "source": []
  }
 ],
 "metadata": {
  "kernelspec": {
   "display_name": "Python 3",
   "language": "python",
   "name": "python3"
  },
  "language_info": {
   "codemirror_mode": {
    "name": "ipython",
    "version": 3
   },
   "file_extension": ".py",
   "mimetype": "text/x-python",
   "name": "python",
   "nbconvert_exporter": "python",
   "pygments_lexer": "ipython3",
   "version": "3.13.0"
  }
 },
 "nbformat": 4,
 "nbformat_minor": 2
}
